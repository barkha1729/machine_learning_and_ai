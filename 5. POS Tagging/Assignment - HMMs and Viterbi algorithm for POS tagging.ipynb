{
 "cells": [
  {
   "cell_type": "markdown",
   "metadata": {},
   "source": [
    "# HMMs and Viterbi algorithm for POS tagging"
   ]
  },
  {
   "cell_type": "markdown",
   "metadata": {},
   "source": [
    "<b>Submitted by Barkha Saxena</b>"
   ]
  },
  {
   "cell_type": "markdown",
   "metadata": {},
   "source": [
    " "
   ]
  },
  {
   "cell_type": "markdown",
   "metadata": {},
   "source": [
    "---\n",
    "<span size=8 style=\" font-family: Arial; font-size: 1.9em;\"> Table of Contents</span>\n",
    "\n",
    "---"
   ]
  },
  {
   "cell_type": "markdown",
   "metadata": {},
   "source": [
    "1. Objective\n",
    "2. Data Preparation\n",
    "3. Vanilla Viterbi\n",
    "4. Observing Unknown Words\n",
    "5. Viterbi Modification-Technique I\n",
    "6. Viterbi Modification-Technique II\n",
    "7. Comparing the tagging accuracies \n",
    "8. Corrections by Modification"
   ]
  },
  {
   "cell_type": "markdown",
   "metadata": {},
   "source": [
    "## 1. Objective:"
   ]
  },
  {
   "cell_type": "markdown",
   "metadata": {},
   "source": [
    "Modify the Viterbi algorithm to solve the problem of unknown words using at least two techniques using\n",
    "12 coarse tag classes from tagset of NLTK. The data is divided with a sample size of 95:5 for training: validation sets.\n",
    "\n",
    "<b>Technique 1:</b> for unknown words the emission probability becomes zero so while calculating the maximum probability in Viterbi use only transition probability for unknown words. Also, take into account the probability of occurence of POS Tags according to the training data.\n",
    "\n",
    "<b>Technique 2:</b> Using ngram tagger backed off by rule based (generalized rules), evaluating the unigram, bigram, trigram taggers backed off by rules to identify POS Tags for Unknown words"
   ]
  },
  {
   "cell_type": "markdown",
   "metadata": {},
   "source": [
    "## 2. Data Preparation"
   ]
  },
  {
   "cell_type": "code",
   "execution_count": 1,
   "metadata": {},
   "outputs": [],
   "source": [
    "#Importing libraries\n",
    "import nltk\n",
    "import time\n",
    "import random\n",
    "import pandas as pd\n",
    "import numpy as np\n",
    "import seaborn as sns\n",
    "import matplotlib.pyplot as plt\n",
    "from sklearn.model_selection import train_test_split"
   ]
  },
  {
   "cell_type": "code",
   "execution_count": 2,
   "metadata": {},
   "outputs": [],
   "source": [
    "# reading the Treebank tagged sentences\n",
    "nltk_data = list(nltk.corpus.treebank.tagged_sents(tagset='universal'))"
   ]
  },
  {
   "cell_type": "code",
   "execution_count": 3,
   "metadata": {},
   "outputs": [
    {
     "name": "stdout",
     "output_type": "stream",
     "text": [
      "[[('Pierre', 'NOUN'), ('Vinken', 'NOUN'), (',', '.'), ('61', 'NUM'), ('years', 'NOUN'), ('old', 'ADJ'), (',', '.'), ('will', 'VERB'), ('join', 'VERB'), ('the', 'DET'), ('board', 'NOUN'), ('as', 'ADP'), ('a', 'DET'), ('nonexecutive', 'ADJ'), ('director', 'NOUN'), ('Nov.', 'NOUN'), ('29', 'NUM'), ('.', '.')], [('Mr.', 'NOUN'), ('Vinken', 'NOUN'), ('is', 'VERB'), ('chairman', 'NOUN'), ('of', 'ADP'), ('Elsevier', 'NOUN'), ('N.V.', 'NOUN'), (',', '.'), ('the', 'DET'), ('Dutch', 'NOUN'), ('publishing', 'VERB'), ('group', 'NOUN'), ('.', '.')], [('Rudolph', 'NOUN'), ('Agnew', 'NOUN'), (',', '.'), ('55', 'NUM'), ('years', 'NOUN'), ('old', 'ADJ'), ('and', 'CONJ'), ('former', 'ADJ'), ('chairman', 'NOUN'), ('of', 'ADP'), ('Consolidated', 'NOUN'), ('Gold', 'NOUN'), ('Fields', 'NOUN'), ('PLC', 'NOUN'), (',', '.'), ('was', 'VERB'), ('named', 'VERB'), ('*-1', 'X'), ('a', 'DET'), ('nonexecutive', 'ADJ'), ('director', 'NOUN'), ('of', 'ADP'), ('this', 'DET'), ('British', 'ADJ'), ('industrial', 'ADJ'), ('conglomerate', 'NOUN'), ('.', '.')], [('A', 'DET'), ('form', 'NOUN'), ('of', 'ADP'), ('asbestos', 'NOUN'), ('once', 'ADV'), ('used', 'VERB'), ('*', 'X'), ('*', 'X'), ('to', 'PRT'), ('make', 'VERB'), ('Kent', 'NOUN'), ('cigarette', 'NOUN'), ('filters', 'NOUN'), ('has', 'VERB'), ('caused', 'VERB'), ('a', 'DET'), ('high', 'ADJ'), ('percentage', 'NOUN'), ('of', 'ADP'), ('cancer', 'NOUN'), ('deaths', 'NOUN'), ('among', 'ADP'), ('a', 'DET'), ('group', 'NOUN'), ('of', 'ADP'), ('workers', 'NOUN'), ('exposed', 'VERB'), ('*', 'X'), ('to', 'PRT'), ('it', 'PRON'), ('more', 'ADV'), ('than', 'ADP'), ('30', 'NUM'), ('years', 'NOUN'), ('ago', 'ADP'), (',', '.'), ('researchers', 'NOUN'), ('reported', 'VERB'), ('0', 'X'), ('*T*-1', 'X'), ('.', '.')], [('The', 'DET'), ('asbestos', 'NOUN'), ('fiber', 'NOUN'), (',', '.'), ('crocidolite', 'NOUN'), (',', '.'), ('is', 'VERB'), ('unusually', 'ADV'), ('resilient', 'ADJ'), ('once', 'ADP'), ('it', 'PRON'), ('enters', 'VERB'), ('the', 'DET'), ('lungs', 'NOUN'), (',', '.'), ('with', 'ADP'), ('even', 'ADV'), ('brief', 'ADJ'), ('exposures', 'NOUN'), ('to', 'PRT'), ('it', 'PRON'), ('causing', 'VERB'), ('symptoms', 'NOUN'), ('that', 'DET'), ('*T*-1', 'X'), ('show', 'VERB'), ('up', 'PRT'), ('decades', 'NOUN'), ('later', 'ADJ'), (',', '.'), ('researchers', 'NOUN'), ('said', 'VERB'), ('0', 'X'), ('*T*-2', 'X'), ('.', '.')], [('Lorillard', 'NOUN'), ('Inc.', 'NOUN'), (',', '.'), ('the', 'DET'), ('unit', 'NOUN'), ('of', 'ADP'), ('New', 'ADJ'), ('York-based', 'ADJ'), ('Loews', 'NOUN'), ('Corp.', 'NOUN'), ('that', 'DET'), ('*T*-2', 'X'), ('makes', 'VERB'), ('Kent', 'NOUN'), ('cigarettes', 'NOUN'), (',', '.'), ('stopped', 'VERB'), ('using', 'VERB'), ('crocidolite', 'NOUN'), ('in', 'ADP'), ('its', 'PRON'), ('Micronite', 'NOUN'), ('cigarette', 'NOUN'), ('filters', 'NOUN'), ('in', 'ADP'), ('1956', 'NUM'), ('.', '.')], [('Although', 'ADP'), ('preliminary', 'ADJ'), ('findings', 'NOUN'), ('were', 'VERB'), ('reported', 'VERB'), ('*-2', 'X'), ('more', 'ADV'), ('than', 'ADP'), ('a', 'DET'), ('year', 'NOUN'), ('ago', 'ADP'), (',', '.'), ('the', 'DET'), ('latest', 'ADJ'), ('results', 'NOUN'), ('appear', 'VERB'), ('in', 'ADP'), ('today', 'NOUN'), (\"'s\", 'PRT'), ('New', 'NOUN'), ('England', 'NOUN'), ('Journal', 'NOUN'), ('of', 'ADP'), ('Medicine', 'NOUN'), (',', '.'), ('a', 'DET'), ('forum', 'NOUN'), ('likely', 'ADJ'), ('*', 'X'), ('to', 'PRT'), ('bring', 'VERB'), ('new', 'ADJ'), ('attention', 'NOUN'), ('to', 'PRT'), ('the', 'DET'), ('problem', 'NOUN'), ('.', '.')], [('A', 'DET'), ('Lorillard', 'NOUN'), ('spokewoman', 'NOUN'), ('said', 'VERB'), (',', '.'), ('``', '.'), ('This', 'DET'), ('is', 'VERB'), ('an', 'DET'), ('old', 'ADJ'), ('story', 'NOUN'), ('.', '.')], [('We', 'PRON'), (\"'re\", 'VERB'), ('talking', 'VERB'), ('about', 'ADP'), ('years', 'NOUN'), ('ago', 'ADP'), ('before', 'ADP'), ('anyone', 'NOUN'), ('heard', 'VERB'), ('of', 'ADP'), ('asbestos', 'NOUN'), ('having', 'VERB'), ('any', 'DET'), ('questionable', 'ADJ'), ('properties', 'NOUN'), ('.', '.')], [('There', 'DET'), ('is', 'VERB'), ('no', 'DET'), ('asbestos', 'NOUN'), ('in', 'ADP'), ('our', 'PRON'), ('products', 'NOUN'), ('now', 'ADV'), ('.', '.'), (\"''\", '.')]]\n"
     ]
    }
   ],
   "source": [
    "# checking data\n",
    "print(nltk_data[:10])"
   ]
  },
  {
   "cell_type": "markdown",
   "metadata": {},
   "source": [
    "<b>Note:</b>\n",
    "\n",
    "    The nltk data loaded comprises of a list of sentences comprising of a list of words tagged with the appropriate POS tag.Tokenization is already been taken care of."
   ]
  },
  {
   "cell_type": "markdown",
   "metadata": {},
   "source": [
    "<b>Checking the total number of POS Tags present in the tagged data</b>"
   ]
  },
  {
   "cell_type": "code",
   "execution_count": 4,
   "metadata": {},
   "outputs": [
    {
     "name": "stdout",
     "output_type": "stream",
     "text": [
      "Total number of POS Tags in data:  12\n",
      "POS Tags: {'.', 'CONJ', 'ADJ', 'VERB', 'PRON', 'ADV', 'ADP', 'PRT', 'DET', 'NUM', 'NOUN', 'X'}\n"
     ]
    }
   ],
   "source": [
    "POS_tags = {tag[1] for sent in nltk_data for tag in sent}\n",
    "print(\"Total number of POS Tags in data: \",len(POS_tags))\n",
    "print(\"POS Tags:\",POS_tags)"
   ]
  },
  {
   "cell_type": "markdown",
   "metadata": {},
   "source": [
    "### 2.1 Split data into training and validation set "
   ]
  },
  {
   "cell_type": "code",
   "execution_count": 5,
   "metadata": {},
   "outputs": [],
   "source": [
    "#Split data into training and validation set in the ratio 95:5\n",
    "random.seed(1234)\n",
    "train_data, validation_data = train_test_split(nltk_data, train_size=0.95, test_size=0.05)"
   ]
  },
  {
   "cell_type": "code",
   "execution_count": 6,
   "metadata": {},
   "outputs": [
    {
     "name": "stdout",
     "output_type": "stream",
     "text": [
      "Sentences in Training Data: 3718\n",
      "Sentences in Validation Data: 196\n"
     ]
    }
   ],
   "source": [
    "print(\"Sentences in Training Data:\", len(train_data))\n",
    "print(\"Sentences in Validation Data:\", len(validation_data))"
   ]
  },
  {
   "cell_type": "markdown",
   "metadata": {},
   "source": [
    "#### Training Data"
   ]
  },
  {
   "cell_type": "code",
   "execution_count": 7,
   "metadata": {},
   "outputs": [
    {
     "name": "stdout",
     "output_type": "stream",
     "text": [
      "Training Data:\n",
      "\n",
      "[[('Western', 'NOUN'), ('Gas', 'NOUN'), ('Resources', 'NOUN'), ('Inc.', 'NOUN'), (',', '.'), ('initial', 'ADJ'), ('offering', 'NOUN'), ('of', 'ADP'), ('3,250,000', 'NUM'), ('shares', 'NOUN'), ('of', 'ADP'), ('common', 'ADJ'), ('stock', 'NOUN'), (',', '.'), ('of', 'ADP'), ('which', 'DET'), ('3,040,000', 'NUM'), ('shares', 'NOUN'), ('*T*-2', 'X'), ('will', 'VERB'), ('be', 'VERB'), ('sold', 'VERB'), ('*-1', 'X'), ('by', 'ADP'), ('the', 'DET'), ('company', 'NOUN'), ('and', 'CONJ'), ('210,000', 'NUM'), ('shares', 'NOUN'), ('*T*-2', 'X'), ('by', 'ADP'), ('a', 'DET'), ('holder', 'NOUN'), (',', '.'), ('via', 'ADP'), ('Prudential-Bache', 'NOUN'), ('Capital', 'NOUN'), ('Funding', 'NOUN'), (',', '.'), ('Smith', 'NOUN'), ('Barney', 'NOUN'), (',', '.'), ('Harris', 'NOUN'), ('Upham', 'NOUN'), ('&', 'CONJ'), ('Co.', 'NOUN'), (',', '.'), ('and', 'CONJ'), ('Hanifen', 'NOUN'), (',', '.'), ('Imhoff', 'NOUN'), ('Inc', 'NOUN'), ('.', '.')], [('Georgia-Pacific', 'NOUN'), (\"'s\", 'PRT'), ('sales', 'NOUN'), ('climbed', 'VERB'), ('to', 'PRT'), ('$', '.'), ('9.5', 'NUM'), ('billion', 'NUM'), ('*U*', 'X'), ('last', 'ADJ'), ('year', 'NOUN'), (',', '.'), ('compared', 'VERB'), ('with', 'ADP'), ('$', '.'), ('6', 'NUM'), ('billion', 'NUM'), ('*U*', 'X'), ('in', 'ADP'), ('1983', 'NUM'), (',', '.'), ('when', 'ADV'), ('Mr.', 'NOUN'), ('Hahn', 'NOUN'), ('took', 'VERB'), ('the', 'DET'), ('reins', 'NOUN'), ('*T*-1', 'X'), ('.', '.')]]\n"
     ]
    }
   ],
   "source": [
    "#observing training data\n",
    "print(\"Training Data:\\n\")\n",
    "print(train_data[:2])"
   ]
  },
  {
   "cell_type": "code",
   "execution_count": 8,
   "metadata": {},
   "outputs": [
    {
     "name": "stdout",
     "output_type": "stream",
     "text": [
      "Number of Tagged words in training data:  95467\n",
      "\n",
      "Training words:\n",
      "[('Western', 'NOUN'), ('Gas', 'NOUN'), ('Resources', 'NOUN'), ('Inc.', 'NOUN'), (',', '.'), ('initial', 'ADJ'), ('offering', 'NOUN'), ('of', 'ADP'), ('3,250,000', 'NUM'), ('shares', 'NOUN'), ('of', 'ADP'), ('common', 'ADJ'), ('stock', 'NOUN'), (',', '.'), ('of', 'ADP'), ('which', 'DET'), ('3,040,000', 'NUM'), ('shares', 'NOUN'), ('*T*-2', 'X'), ('will', 'VERB'), ('be', 'VERB'), ('sold', 'VERB'), ('*-1', 'X'), ('by', 'ADP'), ('the', 'DET'), ('company', 'NOUN'), ('and', 'CONJ'), ('210,000', 'NUM'), ('shares', 'NOUN'), ('*T*-2', 'X')]\n"
     ]
    }
   ],
   "source": [
    "# Sentences to words \n",
    "train_tagged_words = [tup for sent in train_data for tup in sent]\n",
    "print(\"Number of Tagged words in training data: \", len(train_tagged_words))\n",
    "print(\"\\nTraining words:\")\n",
    "print(train_tagged_words[:30])"
   ]
  },
  {
   "cell_type": "markdown",
   "metadata": {},
   "source": [
    "<b>Note:</b>\n",
    "    \n",
    "    Notice now all words from all sentences are combined to a single list. \n",
    "    For example the 31st word 'She' which was in a different item in the previous list now is present in the same list."
   ]
  },
  {
   "cell_type": "code",
   "execution_count": 9,
   "metadata": {},
   "outputs": [
    {
     "data": {
      "text/plain": [
       "['Western',\n",
       " 'Gas',\n",
       " 'Resources',\n",
       " 'Inc.',\n",
       " ',',\n",
       " 'initial',\n",
       " 'offering',\n",
       " 'of',\n",
       " '3,250,000',\n",
       " 'shares']"
      ]
     },
     "execution_count": 9,
     "metadata": {},
     "output_type": "execute_result"
    }
   ],
   "source": [
    "# tokens in the train set - train_tagged_words\n",
    "train_tagged_tokens = [tag[0] for tag in train_tagged_words]\n",
    "train_tagged_tokens[:10]"
   ]
  },
  {
   "cell_type": "code",
   "execution_count": 10,
   "metadata": {},
   "outputs": [
    {
     "data": {
      "text/plain": [
       "['NOUN', 'NOUN', 'NOUN', 'NOUN', '.', 'ADJ', 'NOUN', 'ADP', 'NUM', 'NOUN']"
      ]
     },
     "execution_count": 10,
     "metadata": {},
     "output_type": "execute_result"
    }
   ],
   "source": [
    "# POS tags for the tokens in the train set - train_tagged_words\n",
    "\n",
    "train_tagged_pos_tokens = [tag[1] for tag in train_tagged_words]\n",
    "train_tagged_pos_tokens[:10]"
   ]
  },
  {
   "cell_type": "code",
   "execution_count": 11,
   "metadata": {},
   "outputs": [],
   "source": [
    "# building the train vocabulary to a set\n",
    "training_vocabulary_set = set(train_tagged_tokens)"
   ]
  },
  {
   "cell_type": "code",
   "execution_count": 12,
   "metadata": {},
   "outputs": [
    {
     "name": "stdout",
     "output_type": "stream",
     "text": [
      "Total POS Tags in training data: 12\n"
     ]
    }
   ],
   "source": [
    "# building the POS tags to a set\n",
    "training_pos_tag_set = set(train_tagged_pos_tokens)\n",
    "# let's check how many unique tags are present in training data\n",
    "print(\"Total POS Tags in training data:\",len(training_pos_tag_set))"
   ]
  },
  {
   "cell_type": "code",
   "execution_count": 13,
   "metadata": {},
   "outputs": [
    {
     "name": "stdout",
     "output_type": "stream",
     "text": [
      "Our training data vocabulary comprises of 12053 words\n"
     ]
    }
   ],
   "source": [
    "print(\"Our training data vocabulary comprises of\",len(training_vocabulary_set),\"words\")"
   ]
  },
  {
   "cell_type": "markdown",
   "metadata": {},
   "source": [
    "<b> Validation Data </b>"
   ]
  },
  {
   "cell_type": "code",
   "execution_count": 14,
   "metadata": {},
   "outputs": [
    {
     "name": "stdout",
     "output_type": "stream",
     "text": [
      "Number of Tagged words in validation data:  5209\n",
      "\n",
      " Validation data:\n",
      "['Many', 'auto', 'dealers', 'now', 'let', 'car', 'buyers', 'charge', 'part', 'or', 'all', 'of', 'their', 'purchase', 'on', 'the', 'American', 'Express', 'card', ',', 'but', 'few', 'card', 'holders', 'realize', 'this', ',', 'Mr.', 'Riese', 'says']\n"
     ]
    }
   ],
   "source": [
    "validation_tagged_words = [tup[0] for sent in validation_data for tup in sent]\n",
    "print(\"Number of Tagged words in validation data: \", len(validation_tagged_words))\n",
    "print(\"\\n Validation data:\")\n",
    "print(validation_tagged_words[:30])"
   ]
  },
  {
   "cell_type": "markdown",
   "metadata": {},
   "source": [
    "<b>Note:</b> \n",
    "    Only the words are extracted tags will be used later to check the accuracy"
   ]
  },
  {
   "cell_type": "markdown",
   "metadata": {},
   "source": [
    "## 3. Build the vanilla Viterbi based POS tagger"
   ]
  },
  {
   "cell_type": "markdown",
   "metadata": {},
   "source": [
    "#### Functions for calculating probabilities"
   ]
  },
  {
   "cell_type": "code",
   "execution_count": 15,
   "metadata": {},
   "outputs": [],
   "source": [
    "#compute emission probability for a given word for a given tag"
   ]
  },
  {
   "cell_type": "code",
   "execution_count": 16,
   "metadata": {},
   "outputs": [],
   "source": [
    "def word_given_tag(word, tag, train_bag = train_tagged_words):\n",
    "    tag_list = [pair for pair in train_bag if pair[1] == tag]\n",
    "    tag_count = len(tag_list)    \n",
    "    word_given_tag_list = [pair[0] for pair in tag_list if pair[0] == word]    \n",
    "    word_given_tag_count = len(word_given_tag_list)    \n",
    "    \n",
    "    return (word_given_tag_count, tag_count)"
   ]
  },
  {
   "cell_type": "code",
   "execution_count": 17,
   "metadata": {},
   "outputs": [],
   "source": [
    "#Function to compute transition probabilties for a given tag and previous tag"
   ]
  },
  {
   "cell_type": "code",
   "execution_count": 18,
   "metadata": {},
   "outputs": [],
   "source": [
    "def t2_given_t1(t2, t1, train_bag = train_tagged_words):\n",
    "    tags = [pair[1] for pair in train_bag]\n",
    "    \n",
    "    t1_tags_list = [tag for tag in tags if tag == t1]\n",
    "    t1_tags_count = len(t1_tags_list)\n",
    "    \n",
    "    t2_given_t1_list = [tags[index+1] for index in range(len(tags)-1) if tags[index] == t1 and tags[index+1] == t2]\n",
    "    t2_given_t1_count = len(t2_given_t1_list)\n",
    "    \n",
    "    return(t2_given_t1_count, t1_tags_count)"
   ]
  },
  {
   "cell_type": "code",
   "execution_count": 19,
   "metadata": {},
   "outputs": [],
   "source": [
    "# computing P(w/t) and storing in [Tags x Vocabulary] matrix. This is a matrix with dimension\n",
    "# of len(training_pos_tag_set) X en(training_vocabulary_set)\n",
    "\n",
    "len_pos_tags = len(training_pos_tag_set)\n",
    "len_vocab = len(training_vocabulary_set)"
   ]
  },
  {
   "cell_type": "code",
   "execution_count": 20,
   "metadata": {},
   "outputs": [],
   "source": [
    "# creating t x t transition matrix of training_pos_tag_set\n",
    "# each column is t2, each row is t1\n",
    "# thus M(i, j) represents P(tj given ti)\n",
    "\n",
    "tags_matrix = np.zeros((len_pos_tags, len_pos_tags), dtype='float32')\n",
    "for i, t1 in enumerate(list(training_pos_tag_set)):\n",
    "    for j, t2 in enumerate(list(training_pos_tag_set)): \n",
    "        tags_matrix[i, j] = t2_given_t1(t2, t1)[0]/t2_given_t1(t2, t1)[1]"
   ]
  },
  {
   "cell_type": "code",
   "execution_count": 21,
   "metadata": {},
   "outputs": [],
   "source": [
    "# convert the matrix to a df for better readability\n",
    "tags_df = pd.DataFrame(tags_matrix, columns = list(training_pos_tag_set), index=list(training_pos_tag_set))"
   ]
  },
  {
   "cell_type": "code",
   "execution_count": 22,
   "metadata": {},
   "outputs": [
    {
     "data": {
      "text/html": [
       "<div>\n",
       "<style scoped>\n",
       "    .dataframe tbody tr th:only-of-type {\n",
       "        vertical-align: middle;\n",
       "    }\n",
       "\n",
       "    .dataframe tbody tr th {\n",
       "        vertical-align: top;\n",
       "    }\n",
       "\n",
       "    .dataframe thead th {\n",
       "        text-align: right;\n",
       "    }\n",
       "</style>\n",
       "<table border=\"1\" class=\"dataframe\">\n",
       "  <thead>\n",
       "    <tr style=\"text-align: right;\">\n",
       "      <th></th>\n",
       "      <th>.</th>\n",
       "      <th>CONJ</th>\n",
       "      <th>ADJ</th>\n",
       "      <th>VERB</th>\n",
       "      <th>PRON</th>\n",
       "      <th>ADV</th>\n",
       "      <th>ADP</th>\n",
       "      <th>PRT</th>\n",
       "      <th>DET</th>\n",
       "      <th>NUM</th>\n",
       "      <th>NOUN</th>\n",
       "      <th>X</th>\n",
       "    </tr>\n",
       "  </thead>\n",
       "  <tbody>\n",
       "    <tr>\n",
       "      <th>.</th>\n",
       "      <td>0.093818</td>\n",
       "      <td>0.058026</td>\n",
       "      <td>0.044288</td>\n",
       "      <td>0.089841</td>\n",
       "      <td>0.066251</td>\n",
       "      <td>0.052151</td>\n",
       "      <td>0.091829</td>\n",
       "      <td>0.002079</td>\n",
       "      <td>0.173897</td>\n",
       "      <td>0.080170</td>\n",
       "      <td>0.220264</td>\n",
       "      <td>0.027296</td>\n",
       "    </tr>\n",
       "    <tr>\n",
       "      <th>CONJ</th>\n",
       "      <td>0.035597</td>\n",
       "      <td>0.000468</td>\n",
       "      <td>0.112881</td>\n",
       "      <td>0.154098</td>\n",
       "      <td>0.060890</td>\n",
       "      <td>0.055738</td>\n",
       "      <td>0.053396</td>\n",
       "      <td>0.005152</td>\n",
       "      <td>0.122717</td>\n",
       "      <td>0.040749</td>\n",
       "      <td>0.350351</td>\n",
       "      <td>0.007963</td>\n",
       "    </tr>\n",
       "    <tr>\n",
       "      <th>ADJ</th>\n",
       "      <td>0.065555</td>\n",
       "      <td>0.016513</td>\n",
       "      <td>0.066050</td>\n",
       "      <td>0.012384</td>\n",
       "      <td>0.000661</td>\n",
       "      <td>0.004954</td>\n",
       "      <td>0.078600</td>\n",
       "      <td>0.011394</td>\n",
       "      <td>0.004954</td>\n",
       "      <td>0.020641</td>\n",
       "      <td>0.697655</td>\n",
       "      <td>0.020641</td>\n",
       "    </tr>\n",
       "    <tr>\n",
       "      <th>VERB</th>\n",
       "      <td>0.034640</td>\n",
       "      <td>0.005347</td>\n",
       "      <td>0.065096</td>\n",
       "      <td>0.168707</td>\n",
       "      <td>0.035493</td>\n",
       "      <td>0.081758</td>\n",
       "      <td>0.091367</td>\n",
       "      <td>0.031463</td>\n",
       "      <td>0.134997</td>\n",
       "      <td>0.023326</td>\n",
       "      <td>0.109036</td>\n",
       "      <td>0.218769</td>\n",
       "    </tr>\n",
       "    <tr>\n",
       "      <th>PRON</th>\n",
       "      <td>0.041122</td>\n",
       "      <td>0.004996</td>\n",
       "      <td>0.073789</td>\n",
       "      <td>0.485012</td>\n",
       "      <td>0.007686</td>\n",
       "      <td>0.034204</td>\n",
       "      <td>0.022291</td>\n",
       "      <td>0.012298</td>\n",
       "      <td>0.009224</td>\n",
       "      <td>0.007302</td>\n",
       "      <td>0.208686</td>\n",
       "      <td>0.093390</td>\n",
       "    </tr>\n",
       "  </tbody>\n",
       "</table>\n",
       "</div>"
      ],
      "text/plain": [
       "             .      CONJ       ADJ      VERB      PRON       ADV       ADP  \\\n",
       ".     0.093818  0.058026  0.044288  0.089841  0.066251  0.052151  0.091829   \n",
       "CONJ  0.035597  0.000468  0.112881  0.154098  0.060890  0.055738  0.053396   \n",
       "ADJ   0.065555  0.016513  0.066050  0.012384  0.000661  0.004954  0.078600   \n",
       "VERB  0.034640  0.005347  0.065096  0.168707  0.035493  0.081758  0.091367   \n",
       "PRON  0.041122  0.004996  0.073789  0.485012  0.007686  0.034204  0.022291   \n",
       "\n",
       "           PRT       DET       NUM      NOUN         X  \n",
       ".     0.002079  0.173897  0.080170  0.220264  0.027296  \n",
       "CONJ  0.005152  0.122717  0.040749  0.350351  0.007963  \n",
       "ADJ   0.011394  0.004954  0.020641  0.697655  0.020641  \n",
       "VERB  0.031463  0.134997  0.023326  0.109036  0.218769  \n",
       "PRON  0.012298  0.009224  0.007302  0.208686  0.093390  "
      ]
     },
     "execution_count": 22,
     "metadata": {},
     "output_type": "execute_result"
    }
   ],
   "source": [
    "# Let's have a glimpse into the transition matrix\n",
    "tags_df.head()"
   ]
  },
  {
   "cell_type": "code",
   "execution_count": 23,
   "metadata": {},
   "outputs": [
    {
     "data": {
      "image/png": "[encoded data removed]",
      "text/plain": [
       "<Figure size 1008x576 with 2 Axes>"
      ]
     },
     "metadata": {
      "needs_background": "light"
     },
     "output_type": "display_data"
    }
   ],
   "source": [
    "# heatmap of tags matrix\n",
    "# T(i, j) means P(tag j given tag i)\n",
    "plt.figure(figsize=(14, 8))\n",
    "sns.heatmap(tags_df, annot = True,cmap=\"YlGnBu\")\n",
    "# sns.color_palette(\"Paired\")\n",
    "plt.show()"
   ]
  },
  {
   "cell_type": "code",
   "execution_count": 24,
   "metadata": {},
   "outputs": [
    {
     "data": {
      "image/png": "[encoded data removed]",
      "text/plain": [
       "<Figure size 1008x576 with 2 Axes>"
      ]
     },
     "metadata": {
      "needs_background": "light"
     },
     "output_type": "display_data"
    }
   ],
   "source": [
    "# frequent tags\n",
    "# filter the df to get P(t2, t1) > 0.5\n",
    "tags_frequent = tags_df[tags_df>0.5]\n",
    "plt.figure(figsize=(14, 8))\n",
    "sns.heatmap(tags_frequent, annot = True,cmap=\"YlGnBu\")\n",
    "plt.show()"
   ]
  },
  {
   "cell_type": "markdown",
   "metadata": {},
   "source": [
    "<b>Viterbi Algorithm</b>\n",
    "\n",
    "The steps are as follows:\n",
    "\n",
    "1. Given a sequence of words.\n",
    "2. iterate through the sequence\n",
    "3. for each word (starting from first word in sequence) calculate the product of emission probabilties and transition probabilties for all possible tags.\n",
    "4. assign the tag which has maximum probability obtained in step 3 above.\n",
    "5. move to the next word in sequence to repeat steps 3 and 4 above."
   ]
  },
  {
   "cell_type": "code",
   "execution_count": 25,
   "metadata": {},
   "outputs": [],
   "source": [
    "def Vanilla_Viterbi(words, train_bag = train_tagged_words):\n",
    "    state = []\n",
    "    \n",
    "    T = list(set([pair[1] for pair in train_bag]))\n",
    "    \n",
    "    for key, word in enumerate(words):\n",
    "        #initialise list of probability column for a given observation\n",
    "        p = [] \n",
    "        for tag in T:\n",
    "            if key == 0:\n",
    "                transition_p = tags_df.loc['.', tag]\n",
    "            else:\n",
    "                transition_p = tags_df.loc[state[-1], tag]\n",
    "                \n",
    "            # compute emission and state probabilities\n",
    "            emission_p = word_given_tag(words[key], tag)[0]/word_given_tag(words[key], tag)[1]\n",
    "            state_probability = emission_p * transition_p    \n",
    "            p.append(state_probability)\n",
    "            \n",
    "        pmax = max(p)\n",
    "        # getting state for which probability is maximum\n",
    "        state_max = T[p.index(pmax)] \n",
    "        state.append(state_max)\n",
    "    return list(zip(words, state))"
   ]
  },
  {
   "cell_type": "markdown",
   "metadata": {},
   "source": [
    "### Testing Vanilla Viterbi Algorithm "
   ]
  },
  {
   "cell_type": "code",
   "execution_count": 46,
   "metadata": {},
   "outputs": [],
   "source": [
    "\n",
    "random.seed(999)\n",
    "\n",
    "# choosing  random 5 sents\n",
    "rndom_test_subset = [random.randint(1, len(validation_data)) for x in range(5)]\n",
    "\n",
    "# list of sents\n",
    "test_run = [validation_data[i] for i in rndom_test_subset]\n",
    "\n",
    "# list of tagged words\n",
    "test_run_base = [tup for sent in test_run for tup in sent]\n",
    "\n",
    "# list of untagged words\n",
    "test_tagged_words = [tup[0] for sent in test_run for tup in sent]\n"
   ]
  },
  {
   "cell_type": "code",
   "execution_count": 27,
   "metadata": {},
   "outputs": [
    {
     "name": "stdout",
     "output_type": "stream",
     "text": [
      "Time taken in seconds:  25.951589345932007\n",
      "Vanilla Viterbi Algorithm Accuracy:  93.7062937062937\n"
     ]
    }
   ],
   "source": [
    "# tagging the test sentences\n",
    "start = time.time()\n",
    "tagged_seq = Vanilla_Viterbi(test_tagged_words)\n",
    "end = time.time()\n",
    "difference = end-start\n",
    "\n",
    "print(\"Time taken in seconds: \", difference)\n",
    "\n",
    "# accuracy\n",
    "vanilla_viterbi_word_check = [i for i, j in zip(tagged_seq, test_run_base) if i == j] \n",
    "vanilla_viterbi_accuracy = len(vanilla_viterbi_word_check)/len(tagged_seq) * 100\n",
    "print('Vanilla Viterbi Algorithm Accuracy: ', vanilla_viterbi_accuracy)"
   ]
  },
  {
   "cell_type": "markdown",
   "metadata": {},
   "source": [
    "## 4. Observing Unknown Words"
   ]
  },
  {
   "cell_type": "code",
   "execution_count": 28,
   "metadata": {},
   "outputs": [
    {
     "name": "stdout",
     "output_type": "stream",
     "text": [
      "Total Words tagged incorrectly : 9\n",
      "\n",
      "\n",
      "And those words are : [(('inaccurately', '.'), ('inaccurately', 'ADV')), (('net', 'ADJ'), ('net', 'NOUN')), (('acknowledge', '.'), ('acknowledge', 'VERB')), (('infusion', '.'), ('infusion', 'NOUN')), (('forecast', 'VERB'), ('forecast', 'NOUN')), (('Reasons', '.'), ('Reasons', 'NOUN')), (('walkout', '.'), ('walkout', 'NOUN')), (('procedural', '.'), ('procedural', 'ADJ')), (('strike', 'NOUN'), ('strike', 'VERB'))]\n"
     ]
    }
   ],
   "source": [
    "#Checking for incorrectly tagged words\n",
    "incorrect_tagged_words = [j for i, j in enumerate(zip(tagged_seq, test_run_base)) if j[0] != j[1]]\n",
    "\n",
    "print(\"Total Words tagged incorrectly :\", len(incorrect_tagged_words))\n",
    "print(\"\\n\")\n",
    "print(\"And those words are :\", incorrect_tagged_words)"
   ]
  },
  {
   "cell_type": "markdown",
   "metadata": {},
   "source": [
    "<b>Note:</b>\n",
    "\n",
    "The loss of accuracy was majorly due to the fact that when the algorithm encountered an unknown word (i.e. not present in the training set, such as 'Twitter'), it assigned an incorrect tag arbitrarily. This is because, for unknown words, the emission probabilities for all candidate tags are 0, so the algorithm arbitrarily chooses (the first) tag\n",
    "\n",
    "Hence, let's see the words which are present in the the test or validation set but not in training data. Based on those observations, we can define <u>generalized</u> rules to predict the POS tags for them"
   ]
  },
  {
   "cell_type": "code",
   "execution_count": 29,
   "metadata": {},
   "outputs": [
    {
     "name": "stdout",
     "output_type": "stream",
     "text": [
      "Total Unknown words : 355\n",
      "\n",
      "\n",
      "Unknown Words : ['Colorado', 'Walkman', 'sticker-shock', 'novelist', 'deliberating', '250,000', 'apologize', '1990-91', 'comprehensive', 'unfettered', 'Mich.-based', 'readings', '*-133', 'Chardonnay', 'Ballantine\\\\/Del', 'portrayal', 'characterizing', 'drooled', 'depository', 'experiencing', 'transporting', 'pretext', 'Joanne', 'bars', 'Roosevelt', 'Handelsbanken', 'breathtaking', 'depression', 'meals', 'exempt', '415', 'cyclical', 'frustrating', 'excited', 'Fortune', 'enabled', 'A-D', 'speculator', 'talked', 'lotions', 'Atsushi', 'accidentally', '51.6', 'Pitcher', 'loose', 'shaded', 'Possible', 'four-foot-high', 'Rouge', 'Hurley', 'Chuck', 'Karl', 'procedural', 'fits', 'sky', 'slippery', 'passions', 'complexes', 'Reasons', 'La.', 'Scandinavian', 'bellwether', '*T*-216', 'composed', 'recyclability', 'hits', 'FAX', 'Monchecourt', 'Coche-Dury', 'Cross', 'Virtually', 'Rae', 'simulates', 'APPEARS', '4.5', 'Can', 'Interviews', 'government-certified', 'moneymakers', 'restricts', '620', 'aims', 'Midvale', 'Orville', 'finds', 'brightest', 'cocoa', 'spouse', '107', 'restraints', 'finite', 'mathematical', 'Joni', 'ventilated', 'Kuhns', 'photographic', 'science', 'attendance', 'Denver', 'civics', 'walkout', '3.43', 'inaccurately', 'pre-1917', 'weapons-modernization', 'Senate-House', 'lipsticks', 'seafood', 'Gerhard', 'ECONOMIC', 'families', 'predispose', 'customized', 'Sonny', 'Cole', 'detective-story', 'underperforming', 'Strindberg', 'Brunei', 'enclosed', 'tackle', 'interviewed', 'dating', 'four-day', 'insidious', '*NOT*', 'Meinders', 'communications', 'educated', 'astronomical', 'Sandberg', 'Coconut', 'difficulties', 'preface', '15-day', 'S.I.', 'fluctuations', 'Corton-Charlemagne', 'Townes', '59-year-old', 'stereotyped', 'aiming', 'brand', 'asset-sale', 'editions', 'goodies', 'designated', '*T*-173', 'carriers', 'familiarization', 'prefer', 'recruited', 'Chardonnays', 'Participants', 'raring', 'dust', 'spackle', 'perspective', 'narrow', 'measurement', 'Peck', 'marvelously', 'kits', 'encourages', 'disapprove', '370', 'burdens', 'erect', 'advisory', 'integrity', 'locally', 'autos', 'enormously', 'experienced', 'Muramatsu', 'consequence', 'elderly', 'PHOTOGRAPH', 'Discos', 'paperback', 'packed', 'Eric', 'remarkable', 'confirms', 'movies', 'clouds', 'Grant', 'Advance', 'Russo', '1991-1999', 'recall', 'aghast', 'Anderson', 'yen-denominated', 'invent', 'war-rationed', 'Nonetheless', '*T*-113', 'Merrick', '1.50', 'paint', 'thousand', 'perpetuates', 'Woodward', 'hard-charging', 'Leroy', 'hung', 'Brian', 'slippage', 'opposes', 'continuous', 'desire', 'Wis.', '2,700', 'Baton', 'infusion', 'Rey\\\\/Fawcett', 'entrench', 'heebie-jeebies', 'Productions', 'spokewoman', 'reliance', 'playgrounds', 'Jackson', 'arrangements', 'tenfold', 'swelling', 'Rita', 'Utah', 'schemes', '550,000', 'Standing', 'confuse', 'Ilminster', 'fronts', 'Prize', 'pharaohs', 'most-likely-successor', 'Invariably', 'Kalamazoo', 'liners', 'hydraulically', '*-104', '70.2', 'Clinton', 'Initiative', '0.54', 'Bridgeville', 'C-130', 'jam', 'perfection', 'guarding', 'confident', 'Hayne', 'subdued', 'dairy', 'Pace', 'mothers', 'Burgundy', 'Sandifer', 'clashed', 'backdrop', 'slope', 'steal', 'dust-up', 'slab', 'forthcoming', 'replicate', 'Carson', 'Fifteen', 'purely', '3,600', 'valuable', '240,000', 'Sable', 'completeness', 'lofty', '*-24', 'thunder', 'one-week', 'Del', 'defines', 'painting', '*-116', 'agreeing', '1.92', 'creams', 'creditworthiness', 'Employers', '47.5', 'schoolboys', 'struggled', 'hugging', 'inferences', 'burned', 'reportedly', 'eight-month', 'directionless', 'outlawing', '14-hour', 'Aurora', 'CTBS', 'Choose', 'foundation', 'copied', '2.44', 'avid', 'fan', 'electorate', 'Teddy', '214', 'Grgich', '352.9', 'actress', 'compelling', 'deprived', 'stirred', 'harbinger', '90-day', 'Somerset', 'satisfaction', 'redeeming', 'Rail', 'Impediments', '14.26', 'Zealand', 'adequate', 'echoed', 'symmetry', 'hill', 'Marchese', 'geometrical', 'pie', 'GROWTH', 'automobile', 'accommodations', 'acknowledge', 'graphs', 'attended', 'COLLECTING', '13.1', '35.2', 'Hale', 'Party', 'collection', 'awaits', 'subtraction', 'witnesses', 'five-day', 'Signore', 'surgeon', 'Nobel', 'Susan', 'good-faith', 'agriculture']\n"
     ]
    }
   ],
   "source": [
    "# Unknown words: words not present in our training dataa\n",
    "test_vocabulary_set = set([t for t in validation_tagged_words])\n",
    "\n",
    "unknown_words = list(test_vocabulary_set - training_vocabulary_set)\n",
    "print(\"Total Unknown words :\", len(unknown_words))\n",
    "print(\"\\n\")\n",
    "print(\"Unknown Words :\", unknown_words)"
   ]
  },
  {
   "cell_type": "markdown",
   "metadata": {},
   "source": [
    "### 4.1 Techniques to handle Unknown words"
   ]
  },
  {
   "cell_type": "markdown",
   "metadata": {},
   "source": [
    "### Unigram tagger"
   ]
  },
  {
   "cell_type": "code",
   "execution_count": 30,
   "metadata": {},
   "outputs": [
    {
     "name": "stdout",
     "output_type": "stream",
     "text": [
      "The accuracy of the Unigram Tagger is:  0.9051641389902092\n"
     ]
    }
   ],
   "source": [
    "# Lexicon (or unigram tagger)\n",
    "\n",
    "unigram_tagger = nltk.UnigramTagger(train_data)\n",
    "accuracy_unigram_tagger = unigram_tagger.evaluate(validation_data)\n",
    "print(\"The accuracy of the Unigram Tagger is: \", accuracy_unigram_tagger)# Lexicon (or unigram tagger)\n"
   ]
  },
  {
   "cell_type": "code",
   "execution_count": 31,
   "metadata": {},
   "outputs": [],
   "source": [
    "# lets create a list containing tuples of POS tags and POS tag occurance probability, based on training data\n",
    "tag_prob = []\n",
    "total_tag = len([tag for word,tag in train_tagged_words])\n",
    "for t in training_pos_tag_set:\n",
    "    each_tag = [tag for word,tag in train_tagged_words if tag==t]\n",
    "    tag_prob.append((t,len(each_tag)/total_tag))"
   ]
  },
  {
   "cell_type": "code",
   "execution_count": 32,
   "metadata": {},
   "outputs": [
    {
     "data": {
      "text/plain": [
       "[('CONJ', 0.022363748729927618),\n",
       " ('PRON', 0.02725549142635675),\n",
       " ('ADV', 0.0315920684634481),\n",
       " ('PRT', 0.032073910356458256),\n",
       " ('NUM', 0.035300156074874044),\n",
       " ('ADJ', 0.06343553269716237),\n",
       " ('X', 0.06599138969486838),\n",
       " ('DET', 0.08700388615961537),\n",
       " ('ADP', 0.09770915604344957),\n",
       " ('.', 0.11589345009270219),\n",
       " ('VERB', 0.1351671258131082),\n",
       " ('NOUN', 0.28621408444802915)]"
      ]
     },
     "execution_count": 32,
     "metadata": {},
     "output_type": "execute_result"
    }
   ],
   "source": [
    "sorted(tag_prob, key=lambda x: x[1])"
   ]
  },
  {
   "cell_type": "markdown",
   "metadata": {},
   "source": [
    "<b>Note: </b>\n",
    "    As can be seen, <b>Noun is the most probable tag</b> from our training data. Hence using it as the deafultin the rule based approach"
   ]
  },
  {
   "cell_type": "markdown",
   "metadata": {},
   "source": [
    "### Unigram + Rule Based"
   ]
  },
  {
   "cell_type": "code",
   "execution_count": 47,
   "metadata": {},
   "outputs": [],
   "source": [
    "\n",
    "patterns = [\n",
    "    (r'[aA-zZ]+(ed|ing|es)$', 'VERB'), # Any word ending with 'ing' or 'ed' is a verb\n",
    "\n",
    "    (r'.*ly$', 'ADV'),\n",
    "        \n",
    "    (r'^([0-9]|[aA-zZ])+\\-[aA-zZ]*$','ADJ'),\n",
    "    (r'.*able$', 'ADJ'), \n",
    "    (r'.*ful$', 'ADJ'),\n",
    "    (r'.*ous$', 'ADJ'),\n",
    "        \n",
    "    (r'^[aA-zZ].*[0-9]+','NOUN'),     # Alpha Numeric\n",
    "    (r'.*ness$', 'NOUN'),\n",
    "    (r'.*\\'s$', 'NOUN'),              # possessive nouns - words ending with 's\n",
    "    (r'.*s$', 'NOUN'),                # plural nouns\n",
    "    (r'.*ers$', 'NOUN'),              # eg.- kinderganteners, autobioghapgers\n",
    "    (r'.*ment$', 'NOUN'),\n",
    "    (r'.*town$', 'NOUN'),\n",
    "        \n",
    "    (r'^(0|([*|-|$].*))','X'), # Any special character combination\n",
    "    (r'.*ould$', 'X'),\n",
    "        \n",
    "    (r'(The|the|A|a|An|an|That|that|This|this|Those|those|These|these)$', 'DET'), # That/this/these/those belong to the category of Demonstrative determiners\n",
    "    (r'[0-9].?[,\\/]?[0-9]*','NUM'), # Numbers \n",
    "        \n",
    "    (r'.*', 'NOUN') # Default\n",
    "    ]"
   ]
  },
  {
   "cell_type": "code",
   "execution_count": 48,
   "metadata": {},
   "outputs": [],
   "source": [
    "# rule based tagger\n",
    "rule_based_tagger = nltk.RegexpTagger(patterns)"
   ]
  },
  {
   "cell_type": "code",
   "execution_count": 49,
   "metadata": {},
   "outputs": [
    {
     "name": "stdout",
     "output_type": "stream",
     "text": [
      "The accuracy of the Unigram Tagger backed up by the RegexpTagger is - 0.959301209445191\n"
     ]
    }
   ],
   "source": [
    "# unigram tagger backed up by the rule-based tagger\n",
    "rule_based_unigram_tagger = nltk.UnigramTagger(train_data, backoff = rule_based_tagger)\n",
    "\n",
    "accuracy_rule_based_unigram_tagger = rule_based_unigram_tagger.evaluate(validation_data)\n",
    "\n",
    "print(\"The accuracy of the Unigram Tagger backed up by the RegexpTagger is -\", accuracy_rule_based_unigram_tagger)"
   ]
  },
  {
   "cell_type": "markdown",
   "metadata": {},
   "source": [
    "### Bigram Tagger"
   ]
  },
  {
   "cell_type": "code",
   "execution_count": 50,
   "metadata": {},
   "outputs": [
    {
     "name": "stdout",
     "output_type": "stream",
     "text": [
      "The accuracy of the Bigram Tagger backed up by the rule_based_unigram_tagger is - 0.9614129391437896\n"
     ]
    }
   ],
   "source": [
    "\n",
    "bigram_tagger = nltk.BigramTagger(train_data, backoff=rule_based_unigram_tagger)\n",
    "bigram_tagger.evaluate(validation_data)\n",
    "accuracy_bigram_tagger = bigram_tagger.evaluate(validation_data)\n",
    "print(\"The accuracy of the Bigram Tagger backed up by the rule_based_unigram_tagger is -\",accuracy_bigram_tagger)"
   ]
  },
  {
   "cell_type": "markdown",
   "metadata": {},
   "source": [
    "### Trigram tagger"
   ]
  },
  {
   "cell_type": "code",
   "execution_count": 51,
   "metadata": {},
   "outputs": [
    {
     "name": "stdout",
     "output_type": "stream",
     "text": [
      "The accuracy of the Trigram Tagger backed up by the bigram_tagger is - 0.9610289882894989\n"
     ]
    }
   ],
   "source": [
    "trigram_tagger = nltk.TrigramTagger(train_data, backoff = bigram_tagger)\n",
    "trigram_tagger.evaluate(validation_data)\n",
    "accuracy_trigram_tagger = trigram_tagger.evaluate(validation_data)\n",
    "print(\"The accuracy of the Trigram Tagger backed up by the bigram_tagger is -\", accuracy_trigram_tagger)"
   ]
  },
  {
   "cell_type": "markdown",
   "metadata": {},
   "source": [
    "<b>Note: </b>\n",
    "\n",
    "As we can see best accuracy is achieved from bigram and trigram tagger"
   ]
  },
  {
   "cell_type": "markdown",
   "metadata": {},
   "source": [
    "## 5. Viterbi Modification-Technique I"
   ]
  },
  {
   "cell_type": "markdown",
   "metadata": {},
   "source": [
    "In this modification,\n",
    " - transition probability of tags when emission probability is zero in case of unknown words \n",
    " - Adding Tag occurance probability weights from training data"
   ]
  },
  {
   "cell_type": "code",
   "execution_count": 52,
   "metadata": {},
   "outputs": [],
   "source": [
    "# use transition probability of tags when emission probability is zero (in case of unknown words)\n",
    "\n",
    "def Viterbi_for_Unknown_Words(words, train_bag = train_tagged_words):\n",
    "    state = []\n",
    "    T = list(set([pair[1] for pair in train_bag]))\n",
    "    \n",
    "    for key, word in enumerate(words):\n",
    "        #initialise list of probability column for a given observation\n",
    "        p = [] \n",
    "        p_transition =[] # list for storing transition probabilities\n",
    "        for tag in T:\n",
    "            if key == 0:\n",
    "                transition_p = tags_df.loc['.', tag]\n",
    "            else:\n",
    "                transition_p = tags_df.loc[state[-1], tag]\n",
    "                \n",
    "            # compute emission and state probabilities\n",
    "            emission_p = word_given_tag(words[key], tag)[0]/word_given_tag(words[key], tag)[1]\n",
    "            state_probability = emission_p * transition_p    \n",
    "            p.append(state_probability)\n",
    "            p_transition.append(transition_p)\n",
    "            \n",
    "        pmax = max(p)\n",
    "        state_max = T[p.index(pmax)] \n",
    "        \n",
    "      \n",
    "        # if probability is zero (unknown word) then use transition probability\n",
    "        if(pmax==0):\n",
    "            pmax = max(p_transition)\n",
    "            state_max = T[p_transition.index(pmax)]\n",
    "                           \n",
    "        else:\n",
    "            state_max = T[p.index(pmax)] \n",
    "        \n",
    "        state.append(state_max)\n",
    "    return list(zip(words, state))"
   ]
  },
  {
   "cell_type": "code",
   "execution_count": 53,
   "metadata": {},
   "outputs": [
    {
     "name": "stdout",
     "output_type": "stream",
     "text": [
      "Time taken in seconds:  20.97590708732605\n",
      "Vanilla Viterbi for Unknown Words Accuracy:  95.8041958041958\n"
     ]
    }
   ],
   "source": [
    "# tagging the test sentences\n",
    "start = time.time()\n",
    "tagged_seq = Viterbi_for_Unknown_Words(test_tagged_words)\n",
    "end = time.time()\n",
    "difference = end-start\n",
    "\n",
    "print(\"Time taken in seconds: \", difference)\n",
    "\n",
    "# accuracy\n",
    "check = [i for i, j in zip(tagged_seq, test_run_base) if i == j] \n",
    "accuracy = len(check)/len(tagged_seq)\n",
    "print('Vanilla Viterbi for Unknown Words Accuracy: ',accuracy*100)"
   ]
  },
  {
   "cell_type": "code",
   "execution_count": 54,
   "metadata": {},
   "outputs": [
    {
     "data": {
      "text/plain": [
       "[('.', 0.11589345009270219),\n",
       " ('CONJ', 0.022363748729927618),\n",
       " ('ADJ', 0.06343553269716237),\n",
       " ('VERB', 0.1351671258131082),\n",
       " ('PRON', 0.02725549142635675),\n",
       " ('ADV', 0.0315920684634481),\n",
       " ('ADP', 0.09770915604344957),\n",
       " ('PRT', 0.032073910356458256),\n",
       " ('DET', 0.08700388615961537),\n",
       " ('NUM', 0.035300156074874044),\n",
       " ('NOUN', 0.28621408444802915),\n",
       " ('X', 0.06599138969486838)]"
      ]
     },
     "execution_count": 54,
     "metadata": {},
     "output_type": "execute_result"
    }
   ],
   "source": [
    "# Adding Tag occurance probability weights: we will apply weights based on the probability of tag occurance \n",
    "# to the transition probabilities of tags and then use the resulting probability for predicting unknown words\n",
    "# POS tag occurance probability, based on training data\n",
    "tag_prob = []\n",
    "total_tag = len([tag for word,tag in train_tagged_words])\n",
    "for t in training_pos_tag_set:\n",
    "    each_tag = [tag for word,tag in train_tagged_words if tag==t]\n",
    "    tag_prob.append((t,len(each_tag)/total_tag))\n",
    "\n",
    "tag_prob"
   ]
  },
  {
   "cell_type": "code",
   "execution_count": 55,
   "metadata": {},
   "outputs": [],
   "source": [
    "# use transition probability of tags when emission probability is zero (in case of unknown words)\n",
    "\n",
    "def Weighted_Viterbi_for_Unknown_Words(words, train_bag = train_tagged_words):\n",
    "    state = []\n",
    "    T = list(set([pair[1] for pair in train_bag]))\n",
    "    \n",
    "    for key, word in enumerate(words):\n",
    "        #initialise list of probability column for a given observation\n",
    "        p = [] \n",
    "        p_transition =[] # list for storing transition probabilities\n",
    "       \n",
    "        for tag in T:\n",
    "            if key == 0:\n",
    "                transition_p = tags_df.loc['.', tag]\n",
    "            else:\n",
    "                transition_p = tags_df.loc[state[-1], tag]\n",
    "                \n",
    "            # compute emission and state probabilities\n",
    "            emission_p = word_given_tag(words[key], tag)[0]/word_given_tag(words[key], tag)[1]\n",
    "            state_probability = emission_p * transition_p    \n",
    "            p.append(state_probability)\n",
    "            \n",
    "            # find POS tag occurance probability\n",
    "            tag_p = [pair[1] for pair in tag_prob if pair[0]==tag ]\n",
    "            \n",
    "            # calculate the transition prob weighted by tag occurance probability.\n",
    "            transition_p = tag_p[0]*transition_p             \n",
    "            p_transition.append(transition_p)\n",
    "            \n",
    "        pmax = max(p)\n",
    "        state_max = T[p.index(pmax)] \n",
    "        \n",
    "      \n",
    "        # if probability is zero (unknown word) then use weighted transition probability\n",
    "        if(pmax==0):\n",
    "            pmax = max(p_transition)\n",
    "            state_max = T[p_transition.index(pmax)]                 \n",
    "                           \n",
    "        else:\n",
    "            state_max = T[p.index(pmax)] \n",
    "        \n",
    "        state.append(state_max)\n",
    "    return list(zip(words, state))"
   ]
  },
  {
   "cell_type": "code",
   "execution_count": 56,
   "metadata": {},
   "outputs": [
    {
     "name": "stdout",
     "output_type": "stream",
     "text": [
      "Time taken in seconds:  20.754494190216064\n",
      "Modified Vanilla Viterbi for Unknown Words Accuracy:  95.1048951048951\n"
     ]
    }
   ],
   "source": [
    "# tagging the test sentences\n",
    "start = time.time()\n",
    "tagged_seq = Weighted_Viterbi_for_Unknown_Words(test_tagged_words)\n",
    "end = time.time()\n",
    "difference = end-start\n",
    "\n",
    "print(\"Time taken in seconds: \", difference)\n",
    "\n",
    "# accuracy\n",
    "viterbi_word_check = [i for i, j in zip(tagged_seq, test_run_base) if i == j] \n",
    "accuracy_viterbi_modified = len(viterbi_word_check)/len(tagged_seq) * 100\n",
    "print('Modified Vanilla Viterbi for Unknown Words Accuracy: ', accuracy_viterbi_modified)"
   ]
  },
  {
   "cell_type": "markdown",
   "metadata": {},
   "source": [
    "Thus, we see that we have got a much better accuracy by using weighted transition probabilties."
   ]
  },
  {
   "cell_type": "markdown",
   "metadata": {},
   "source": [
    "## 6. Viterbi Modification-Technique II"
   ]
  },
  {
   "cell_type": "markdown",
   "metadata": {},
   "source": [
    "In this modification, \n",
    "- based on previous analysis in section 4, using  Bigram Tagger backed off by unigram and rule based tagger "
   ]
  },
  {
   "cell_type": "code",
   "execution_count": 57,
   "metadata": {},
   "outputs": [],
   "source": [
    "## Based on the unknown words in section 4, defining general rules\n",
    "def bigram_tagger(word, train_set = train_data):\n",
    "    \n",
    "    patterns = [\n",
    "    (r'[aA-zZ]+(ed|ing|es)$', 'VERB'), # Any word ending with 'ing' or 'ed' is a verb\n",
    "\n",
    "    (r'.*ly$', 'ADV'),\n",
    "        \n",
    "    (r'^([0-9]|[aA-zZ])+\\-[aA-zZ]*$','ADJ'),\n",
    "    (r'.*able$', 'ADJ'), \n",
    "    (r'.*ful$', 'ADJ'),\n",
    "    (r'.*ous$', 'ADJ'),\n",
    "        \n",
    "    (r'^[aA-zZ].*[0-9]+','NOUN'),     # Alpha Numeric\n",
    "    (r'.*ness$', 'NOUN'),\n",
    "    (r'.*\\'s$', 'NOUN'),              # possessive nouns - words ending with 's\n",
    "    (r'.*s$', 'NOUN'),                # plural nouns\n",
    "    (r'.*ers$', 'NOUN'),              # eg.- kinderganteners, autobioghapgers\n",
    "    (r'.*ment$', 'NOUN'),\n",
    "    (r'.*town$', 'NOUN'),\n",
    "        \n",
    "    (r'^(0|([*|-|$].*))','X'), # Any special character combination\n",
    "    (r'.*ould$', 'X'),\n",
    "        \n",
    "    (r'(The|the|A|a|An|an|That|that|This|this|Those|those|These|these)$', 'DET'), # That/this/these/those belong to the category of Demonstrative determiners\n",
    "    (r'[0-9].?[,\\/]?[0-9]*','NUM'), # Numbers \n",
    "        \n",
    "    (r'.*', 'NOUN') # Default\n",
    "    ]\n",
    "\n",
    "    regex_based_tagger = nltk.RegexpTagger(patterns)\n",
    "\n",
    "    # trigram backed up by the regex tagger\n",
    "    trigram_regex_tagger = nltk.BigramTagger(train_set, backoff = rule_based_unigram_tagger)\n",
    "    return trigram_regex_tagger.tag_sents([[(word)]])"
   ]
  },
  {
   "cell_type": "code",
   "execution_count": 58,
   "metadata": {},
   "outputs": [],
   "source": [
    "# viterbi with handling for unknown words from regex tagger\n",
    "\n",
    "def Viterbi_bigram_Tagger(words, train_bag = train_tagged_words):\n",
    "    state = []\n",
    "    T = list(set([pair[1] for pair in train_bag]))\n",
    "    \n",
    "    for key, word in enumerate(words):\n",
    "        # unknown words from trigram taggr\n",
    "        if word not in training_vocabulary_set:\n",
    "            unk_word_tag=bigram_tagger(word)\n",
    "            for sent in unk_word_tag:\n",
    "                for tup in sent:\n",
    "                    state.append(tup[1])\n",
    "        # rest remains same            \n",
    "        else:            \n",
    "            p = [] \n",
    "            for tag in T:\n",
    "                if key == 0:\n",
    "                    transition_p = tags_df.loc['.', tag]\n",
    "                else:\n",
    "                    transition_p = tags_df.loc[state[-1], tag]\n",
    "                \n",
    "            # compute emission and state probabilities\n",
    "                emission_p = word_given_tag(words[key], tag)[0]/word_given_tag(words[key], tag)[1]\n",
    "                state_probability = emission_p * transition_p    \n",
    "                p.append(state_probability)\n",
    "            \n",
    "            pmax = max(p)\n",
    "            # getting state for which probability is maximum\n",
    "            state_max = T[p.index(pmax)] \n",
    "            state.append(state_max)\n",
    "            \n",
    "    return list(zip(words, state))"
   ]
  },
  {
   "cell_type": "code",
   "execution_count": 62,
   "metadata": {},
   "outputs": [
    {
     "name": "stdout",
     "output_type": "stream",
     "text": [
      "Time taken in seconds:  26.906004190444946\n",
      "Modified Viterbi Bigram Tagger Accuracy:  95.8041958041958\n"
     ]
    }
   ],
   "source": [
    "# tagging the test sentences\n",
    "start = time.time()\n",
    "tagged_seq = Viterbi_bigram_Tagger(test_tagged_words)\n",
    "end = time.time()\n",
    "difference = end-start\n",
    "\n",
    "print(\"Time taken in seconds: \", difference)\n",
    "\n",
    "# accuracy\n",
    "viterbi_bigram_word_check = [i for i, j in zip(tagged_seq, test_run_base) if i == j] \n",
    "viterbi_bigram_accuracy = len(viterbi_bigram_word_check)/len(tagged_seq) * 100\n",
    "print('Modified Viterbi Bigram Tagger Accuracy: ', viterbi_bigram_accuracy)"
   ]
  },
  {
   "cell_type": "markdown",
   "metadata": {},
   "source": [
    "## 7. Comparing the tagging accuracies "
   ]
  },
  {
   "cell_type": "code",
   "execution_count": 61,
   "metadata": {},
   "outputs": [
    {
     "data": {
      "text/html": [
       "<div>\n",
       "<style scoped>\n",
       "    .dataframe tbody tr th:only-of-type {\n",
       "        vertical-align: middle;\n",
       "    }\n",
       "\n",
       "    .dataframe tbody tr th {\n",
       "        vertical-align: top;\n",
       "    }\n",
       "\n",
       "    .dataframe thead th {\n",
       "        text-align: right;\n",
       "    }\n",
       "</style>\n",
       "<table border=\"1\" class=\"dataframe\">\n",
       "  <thead>\n",
       "    <tr style=\"text-align: right;\">\n",
       "      <th></th>\n",
       "      <th>Tagging_Accuracy</th>\n",
       "    </tr>\n",
       "    <tr>\n",
       "      <th>Tagging_Algorithm</th>\n",
       "      <th></th>\n",
       "    </tr>\n",
       "  </thead>\n",
       "  <tbody>\n",
       "    <tr>\n",
       "      <th>Unigram Tagger</th>\n",
       "      <td>90.516414</td>\n",
       "    </tr>\n",
       "    <tr>\n",
       "      <th>Unigram + RegexpTagger</th>\n",
       "      <td>95.930121</td>\n",
       "    </tr>\n",
       "    <tr>\n",
       "      <th>Bigram Tagger + Unigram_tagger</th>\n",
       "      <td>96.141294</td>\n",
       "    </tr>\n",
       "    <tr>\n",
       "      <th>Trigram Tagger + Bigram_tagger</th>\n",
       "      <td>96.102899</td>\n",
       "    </tr>\n",
       "  </tbody>\n",
       "</table>\n",
       "</div>"
      ],
      "text/plain": [
       "                                Tagging_Accuracy\n",
       "Tagging_Algorithm                               \n",
       "Unigram Tagger                         90.516414\n",
       "Unigram + RegexpTagger                 95.930121\n",
       "Bigram Tagger + Unigram_tagger         96.141294\n",
       "Trigram Tagger + Bigram_tagger         96.102899"
      ]
     },
     "execution_count": 61,
     "metadata": {},
     "output_type": "execute_result"
    }
   ],
   "source": [
    "acccuracy_for_ngram = [\n",
    "                                   ['Unigram Tagger', accuracy_unigram_tagger * 100],\n",
    "                  ['Unigram + RegexpTagger', accuracy_rule_based_unigram_tagger * 100],\n",
    "                  ['Bigram Tagger + Unigram_tagger', accuracy_bigram_tagger*100],\n",
    "                  ['Trigram Tagger + Bigram_tagger', accuracy_trigram_tagger*100],\n",
    "                 ]\n",
    "ngram_accuracy_df = pd.DataFrame(acccuracy_for_ngram, columns = ['Tagging_Algorithm', 'Tagging_Accuracy'])\n",
    "\n",
    "ngram_accuracy_df.set_index('Tagging_Algorithm', drop = True, inplace = True)\n",
    "\n",
    "ngram_accuracy_df"
   ]
  },
  {
   "cell_type": "markdown",
   "metadata": {},
   "source": [
    "As can be seen Bigram backed by unigram has the highest accuracy, hence using this in our second modification of viterbi"
   ]
  },
  {
   "cell_type": "code",
   "execution_count": 75,
   "metadata": {},
   "outputs": [
    {
     "data": {
      "text/html": [
       "<div>\n",
       "<style scoped>\n",
       "    .dataframe tbody tr th:only-of-type {\n",
       "        vertical-align: middle;\n",
       "    }\n",
       "\n",
       "    .dataframe tbody tr th {\n",
       "        vertical-align: top;\n",
       "    }\n",
       "\n",
       "    .dataframe thead th {\n",
       "        text-align: right;\n",
       "    }\n",
       "</style>\n",
       "<table border=\"1\" class=\"dataframe\">\n",
       "  <thead>\n",
       "    <tr style=\"text-align: right;\">\n",
       "      <th></th>\n",
       "      <th>Tagging_Accuracy</th>\n",
       "    </tr>\n",
       "    <tr>\n",
       "      <th>Tagging_Algorithm</th>\n",
       "      <th></th>\n",
       "    </tr>\n",
       "  </thead>\n",
       "  <tbody>\n",
       "    <tr>\n",
       "      <th>Vanilla Viterbi</th>\n",
       "      <td>93.706294</td>\n",
       "    </tr>\n",
       "    <tr>\n",
       "      <th>Viterbi Modified (handling emission probability coming zero and probability of Tags accounted)</th>\n",
       "      <td>95.104895</td>\n",
       "    </tr>\n",
       "    <tr>\n",
       "      <th>Viterbi + bigram_tagger</th>\n",
       "      <td>95.804196</td>\n",
       "    </tr>\n",
       "  </tbody>\n",
       "</table>\n",
       "</div>"
      ],
      "text/plain": [
       "                                                    Tagging_Accuracy\n",
       "Tagging_Algorithm                                                   \n",
       "Vanilla Viterbi                                            93.706294\n",
       "Viterbi Modified (handling emission probability...         95.104895\n",
       "Viterbi + bigram_tagger                                    95.804196"
      ]
     },
     "execution_count": 75,
     "metadata": {},
     "output_type": "execute_result"
    }
   ],
   "source": [
    "acccuracy_data = [['Vanilla Viterbi', vanilla_viterbi_accuracy], \n",
    "                  ['Viterbi Modified (handling emission probability coming zero and probability of Tags accounted)', accuracy_viterbi_modified], \n",
    "                  ['Viterbi + bigram_tagger', viterbi_bigram_accuracy]]\n",
    "\n",
    "\n",
    "acccuracy_data_df = pd.DataFrame(acccuracy_data, columns = ['Tagging_Algorithm', 'Tagging_Accuracy'])\n",
    "\n",
    "acccuracy_data_df.set_index('Tagging_Algorithm', drop = True, inplace = True)\n",
    "\n",
    "acccuracy_data_df\n"
   ]
  },
  {
   "cell_type": "markdown",
   "metadata": {},
   "source": [
    "<b>Conclusion:</b> Modification Technique-2 (Viterbi + bigram tagger ) gives the highest accuracy"
   ]
  },
  {
   "cell_type": "markdown",
   "metadata": {},
   "source": [
    "## 8. Corrections by Modification"
   ]
  },
  {
   "cell_type": "markdown",
   "metadata": {},
   "source": [
    "List down cases which were incorrectly tagged by original POS tagger and got corrected by your modifications"
   ]
  },
  {
   "cell_type": "code",
   "execution_count": 65,
   "metadata": {},
   "outputs": [],
   "source": [
    "from nltk.tokenize import word_tokenize"
   ]
  },
  {
   "cell_type": "code",
   "execution_count": 66,
   "metadata": {},
   "outputs": [
    {
     "name": "stdout",
     "output_type": "stream",
     "text": [
      "Android is a mobile operating system developed by Google.\n",
      "Android has been the best-selling OS worldwide on smartphones since 2011 and on tablets since 2013.\n",
      "Google and Twitter made a deal in 2015 that gave Google access to Twitter's firehose.\n",
      "Twitter is an online news and social networking service on which users post and interact with messages known as tweets.\n",
      "Before entering politics, Donald Trump was a domineering businessman and a television personality.\n",
      "The 2018 FIFA World Cup is the 21st FIFA World Cup, an international football tournament contested once every four years.\n",
      "This is the first World Cup to be held in Eastern Europe and the 11th time that it has been held in Europe.\n",
      "Show me the cheapest round trips from Dallas to Atlanta\n",
      "I would like to see flights from Denver to Philadelphia.\n",
      "Show me the price of the flights leaving Atlanta at about 3 in the afternoon and arriving in San Francisco.\n",
      "NASA invited social media users to experience the launch of ICESAT-2 Satellite.\n",
      "\n",
      "\n",
      "\n",
      "\n"
     ]
    }
   ],
   "source": [
    "file = open(\"Test_sentences.txt\", \"r\")\n",
    "print(file.read())"
   ]
  },
  {
   "cell_type": "markdown",
   "metadata": {},
   "source": [
    "### Testing"
   ]
  },
  {
   "cell_type": "markdown",
   "metadata": {},
   "source": [
    "#### Test case -1 "
   ]
  },
  {
   "cell_type": "code",
   "execution_count": 67,
   "metadata": {},
   "outputs": [
    {
     "name": "stdout",
     "output_type": "stream",
     "text": [
      "[('NASA', '.'), ('invited', '.'), ('social', 'ADJ'), ('media', 'NOUN'), ('users', 'NOUN'), ('to', 'PRT'), ('experience', 'NOUN'), ('the', 'DET'), ('launch', 'NOUN'), ('of', 'ADP'), ('ICESAT-2', '.'), ('Satellite', '.'), ('.', '.')]\n"
     ]
    }
   ],
   "source": [
    "sentence_test_1 = 'NASA invited social media users to experience the launch of ICESAT-2 Satellite.'\n",
    "words = word_tokenize(sentence_test_1)\n",
    "tagged_seq = Vanilla_Viterbi(words)\n",
    "print(tagged_seq)"
   ]
  },
  {
   "cell_type": "code",
   "execution_count": 68,
   "metadata": {},
   "outputs": [
    {
     "name": "stdout",
     "output_type": "stream",
     "text": [
      "[('NASA', 'NOUN'), ('invited', 'VERB'), ('social', 'ADJ'), ('media', 'NOUN'), ('users', 'NOUN'), ('to', 'PRT'), ('experience', 'NOUN'), ('the', 'DET'), ('launch', 'NOUN'), ('of', 'ADP'), ('ICESAT-2', 'NOUN'), ('Satellite', 'NOUN'), ('.', '.')]\n"
     ]
    }
   ],
   "source": [
    "tagged_seq_modified = Viterbi_bigram_Tagger(words)\n",
    "print(tagged_seq_modified)"
   ]
  },
  {
   "cell_type": "markdown",
   "metadata": {},
   "source": [
    "##### Result: \n",
    "1. 'NASA', ''ICESAT-2','Satellite' were incorrectly labelled as '.' with vanilla viterbi whereas the modified viterbi  identified them as nouns, which is the correct tag when seen intuitively\n"
   ]
  },
  {
   "cell_type": "markdown",
   "metadata": {},
   "source": [
    "#### Test case -2"
   ]
  },
  {
   "cell_type": "code",
   "execution_count": 69,
   "metadata": {},
   "outputs": [
    {
     "name": "stdout",
     "output_type": "stream",
     "text": [
      "[('Android', '.'), ('has', 'VERB'), ('been', 'VERB'), ('the', 'DET'), ('best-selling', 'ADJ'), ('OS', '.'), ('worldwide', '.'), ('on', 'ADP'), ('smartphones', '.'), ('since', 'ADP'), ('2011', '.'), ('and', 'CONJ'), ('on', 'ADP'), ('tablets', 'NOUN'), ('since', 'ADP'), ('2013', '.'), ('.', '.')]\n"
     ]
    }
   ],
   "source": [
    "sentence_test_2='Android has been the best-selling OS worldwide on smartphones since 2011 and on tablets since 2013.'\n",
    "words = word_tokenize(sentence_test_2)\n",
    "tagged_seq = Vanilla_Viterbi(words)\n",
    "print(tagged_seq)"
   ]
  },
  {
   "cell_type": "code",
   "execution_count": 70,
   "metadata": {},
   "outputs": [
    {
     "name": "stdout",
     "output_type": "stream",
     "text": [
      "[('Android', 'NOUN'), ('has', 'VERB'), ('been', 'VERB'), ('the', 'DET'), ('best-selling', 'ADJ'), ('OS', 'NOUN'), ('worldwide', 'NOUN'), ('on', 'ADP'), ('smartphones', 'VERB'), ('since', 'ADP'), ('2011', 'NUM'), ('and', 'CONJ'), ('on', 'ADP'), ('tablets', 'NOUN'), ('since', 'ADP'), ('2013', 'NUM'), ('.', '.')]\n"
     ]
    }
   ],
   "source": [
    "tagged_seq_modified = Viterbi_bigram_Tagger(words)\n",
    "print(tagged_seq_modified)"
   ]
  },
  {
   "cell_type": "markdown",
   "metadata": {},
   "source": [
    "##### Result: \n",
    "1. 'Android', 'OS' were incorrectly labelled as '.' with vanilla viterbi whereas the modified viterbi  identified them as nouns, which is the correct tag when seen intuitively\n",
    "2. '2011','2013' was marked as '.' with vanilla viterbi whereas the modified viterbi tagged it correctly as a number\n"
   ]
  },
  {
   "cell_type": "markdown",
   "metadata": {},
   "source": [
    "#### Test case -3"
   ]
  },
  {
   "cell_type": "code",
   "execution_count": 71,
   "metadata": {},
   "outputs": [
    {
     "name": "stdout",
     "output_type": "stream",
     "text": [
      "[('Google', '.'), ('and', 'CONJ'), ('Twitter', '.'), ('made', 'VERB'), ('a', 'DET'), ('deal', 'NOUN'), ('in', 'ADP'), ('2015', '.'), ('that', 'DET'), ('gave', 'VERB'), ('Google', '.'), ('access', 'NOUN'), ('to', 'PRT'), ('Twitter', '.'), (\"'s\", 'VERB'), ('firehose', '.'), ('.', '.')]\n"
     ]
    }
   ],
   "source": [
    "sentence_test_3='Google and Twitter made a deal in 2015 that gave Google access to Twitter\\'s firehose.'\n",
    "words = word_tokenize(sentence_test_3)\n",
    "tagged_seq = Vanilla_Viterbi(words)\n",
    "print(tagged_seq)"
   ]
  },
  {
   "cell_type": "code",
   "execution_count": 72,
   "metadata": {},
   "outputs": [
    {
     "name": "stdout",
     "output_type": "stream",
     "text": [
      "[('Google', 'NOUN'), ('and', 'CONJ'), ('Twitter', 'NOUN'), ('made', 'VERB'), ('a', 'DET'), ('deal', 'NOUN'), ('in', 'ADP'), ('2015', 'NUM'), ('that', 'ADP'), ('gave', 'VERB'), ('Google', 'NOUN'), ('access', 'NOUN'), ('to', 'PRT'), ('Twitter', 'NOUN'), (\"'s\", 'PRT'), ('firehose', 'NOUN'), ('.', '.')]\n"
     ]
    }
   ],
   "source": [
    "tagged_seq_modified = Viterbi_bigram_Tagger(words)\n",
    "print(tagged_seq_modified)"
   ]
  },
  {
   "cell_type": "markdown",
   "metadata": {},
   "source": [
    "##### Result: \n",
    "1. 'Google', 'Twitter', 'firehose' were incorrectly labelled as '.' with vanilla viterbi whereas the modified viterbi  identified them as nouns, which is the correct tag when seen intuitively\n",
    "2. '2015' was marked as '.' with vanilla viterbi whereas the modified viterbi tagged it correctly as a number"
   ]
  },
  {
   "cell_type": "markdown",
   "metadata": {},
   "source": [
    "#### Test case -4"
   ]
  },
  {
   "cell_type": "code",
   "execution_count": 73,
   "metadata": {},
   "outputs": [
    {
     "name": "stdout",
     "output_type": "stream",
     "text": [
      "[('I', 'PRON'), ('Instagrammed', '.'), ('a', 'DET'), ('Facebook', '.'), ('post', 'NOUN'), ('taken', 'VERB'), ('from', 'ADP'), ('Android', '.'), ('smartphone', '.'), ('and', 'CONJ'), ('uploaded', '.'), ('results', 'NOUN'), ('to', 'PRT'), ('Youtube', '.'), ('.', '.')]\n"
     ]
    }
   ],
   "source": [
    "sentence_test_4='I Instagrammed a Facebook post taken from Android smartphone and uploaded results to Youtube.'\n",
    "words = word_tokenize(sentence_test_4)\n",
    "tagged_seq = Vanilla_Viterbi(words)\n",
    "print(tagged_seq)"
   ]
  },
  {
   "cell_type": "code",
   "execution_count": 74,
   "metadata": {},
   "outputs": [
    {
     "name": "stdout",
     "output_type": "stream",
     "text": [
      "[('I', 'PRON'), ('Instagrammed', 'VERB'), ('a', 'DET'), ('Facebook', 'NOUN'), ('post', 'NOUN'), ('taken', 'VERB'), ('from', 'ADP'), ('Android', 'NOUN'), ('smartphone', 'NOUN'), ('and', 'CONJ'), ('uploaded', 'VERB'), ('results', 'NOUN'), ('to', 'PRT'), ('Youtube', 'NOUN'), ('.', '.')]\n"
     ]
    }
   ],
   "source": [
    "tagged_seq_modified = Viterbi_bigram_Tagger(words)\n",
    "print(tagged_seq_modified)"
   ]
  },
  {
   "cell_type": "markdown",
   "metadata": {},
   "source": [
    "##### Result: \n",
    "1. 'Instagrammed','uploaded' were incorrectly labelled as '.' with vanilla viterbi whereas the modified viterbi identified them as verb, which is the correct tag when seen intuitively\n",
    "2. 'Facebook', 'post','smartphone','Youtube' were incorrectly labelled as '.' with vanilla viterbi whereas the modified viterbi  identified them as nouns, which is the correct tag when seen intuitively\n"
   ]
  },
  {
   "cell_type": "markdown",
   "metadata": {},
   "source": [
    "---\n",
    "                                                 End Of Assignment\n",
    "\n",
    "---"
   ]
  }
 ],
 "metadata": {
  "kernelspec": {
   "display_name": "Python 3",
   "language": "python",
   "name": "python3"
  },
  "language_info": {
   "codemirror_mode": {
    "name": "ipython",
    "version": 3
   },
   "file_extension": ".py",
   "mimetype": "text/x-python",
   "name": "python",
   "nbconvert_exporter": "python",
   "pygments_lexer": "ipython3",
   "version": "3.7.6"
  }
 },
 "nbformat": 4,
 "nbformat_minor": 4
}
